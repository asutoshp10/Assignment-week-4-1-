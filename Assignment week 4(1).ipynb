{
 "cells": [
  {
   "cell_type": "markdown",
   "id": "93c43172-fdf2-429f-8dff-abf108b9c02a",
   "metadata": {},
   "source": [
    "1.>Python is an object oriented programming language. Almost everything in Python is an object, with its properties and methods. A Class is like an object constructor, or a \"blueprint\" for creating objects."
   ]
  },
  {
   "cell_type": "code",
   "execution_count": 1,
   "id": "427e5ca7-180a-46d9-9932-21fb8701c926",
   "metadata": {},
   "outputs": [],
   "source": [
    "#eg.\n",
    "class ap:\n",
    "    def show():\n",
    "        print('this is class ap')"
   ]
  },
  {
   "cell_type": "code",
   "execution_count": null,
   "id": "f9f06dcc-fc50-4036-b9f1-ed4c5be431ef",
   "metadata": {},
   "outputs": [],
   "source": [
    "asu=ap()\n",
    "#here asu is object where ap is class"
   ]
  },
  {
   "cell_type": "code",
   "execution_count": 4,
   "id": "d22fda9d-81d9-44f3-a7df-e1dd944db498",
   "metadata": {},
   "outputs": [
    {
     "data": {
      "text/plain": [
       "3"
      ]
     },
     "execution_count": 4,
     "metadata": {},
     "output_type": "execute_result"
    }
   ],
   "source": []
  },
  {
   "cell_type": "markdown",
   "id": "e9e150ce-5b84-40ac-9802-21aa63dd10f8",
   "metadata": {},
   "source": [
    "2.>The 4 pilliars of oops are [encapsulation , inheritance , polymorphism and abstraction"
   ]
  },
  {
   "cell_type": "markdown",
   "id": "84a063ea-3545-4cee-9446-a7ce422ab113",
   "metadata": {},
   "source": [
    "3.>__init__ is used to initialise the value to the class so that it can be used by all the methods in the class."
   ]
  },
  {
   "cell_type": "code",
   "execution_count": 9,
   "id": "74c30982-591e-4b3e-8b43-428ec55ea0c9",
   "metadata": {},
   "outputs": [],
   "source": [
    "class bank:\n",
    "    def __init__(self,name,age):\n",
    "        self.name=name\n",
    "        self.age=age"
   ]
  },
  {
   "cell_type": "code",
   "execution_count": 10,
   "id": "779d6b0f-b055-4974-b9c9-503e18edd02a",
   "metadata": {},
   "outputs": [],
   "source": [
    "a=bank('asutosh pradhan',18)"
   ]
  },
  {
   "cell_type": "markdown",
   "id": "bd1a56f6-2089-4532-8bbb-a06a5007db7b",
   "metadata": {},
   "source": [
    "4.> Self is used to bind the function/method with the given class."
   ]
  },
  {
   "cell_type": "markdown",
   "id": "fa2e5329-7d9d-40dd-a054-c5e919ad892f",
   "metadata": {},
   "source": [
    "5.>Inheritance means accessing the properties of a      class in other class.\n",
    "   types of inheritance are:-\n",
    "   "
   ]
  },
  {
   "cell_type": "code",
   "execution_count": 12,
   "id": "9bcc0c5b-b716-49e0-9394-d5250e5b3439",
   "metadata": {},
   "outputs": [],
   "source": [
    "#(i)Iheritance(parent to child)\n",
    "class parent:\n",
    "    def test_1(self):\n",
    "        print('this is parent class')\n",
    "\n",
    "class child(parent):\n",
    "    def test_2(self):\n",
    "        print('this is child class')"
   ]
  },
  {
   "cell_type": "code",
   "execution_count": 15,
   "id": "3435ab08-381d-4f8d-8f54-1e4d78ec95fa",
   "metadata": {},
   "outputs": [],
   "source": [
    "#(ii)Multi Level inheritance(grand parents to parents to child)\n",
    "class grand_parent:\n",
    "    def test_1(self):\n",
    "        print('this is the  grand parent class')\n",
    "\n",
    "class parent(grand_parent):\n",
    "    def test_2(self):\n",
    "        print('this is parent class')\n",
    "        \n",
    "class child(parent):\n",
    "    def tset_3(self):\n",
    "        print('this is child class')\n",
    "        "
   ]
  },
  {
   "cell_type": "code",
   "execution_count": null,
   "id": "5f546b0b-7ee9-4baa-b882-e6b47f89fd81",
   "metadata": {},
   "outputs": [],
   "source": [
    "#(iii)Multiple Inheritance(father and mother to child)\n",
    "class father:\n",
    "    def test_(self):\n",
    "        print('this is father class')\n",
    "        \n",
    "class mother:\n",
    "    def test_2(self):\n",
    "        print(t)"
   ]
  }
 ],
 "metadata": {
  "kernelspec": {
   "display_name": "Python 3 (ipykernel)",
   "language": "python",
   "name": "python3"
  },
  "language_info": {
   "codemirror_mode": {
    "name": "ipython",
    "version": 3
   },
   "file_extension": ".py",
   "mimetype": "text/x-python",
   "name": "python",
   "nbconvert_exporter": "python",
   "pygments_lexer": "ipython3",
   "version": "3.10.8"
  }
 },
 "nbformat": 4,
 "nbformat_minor": 5
}
